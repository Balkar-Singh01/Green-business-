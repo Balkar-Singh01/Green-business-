{
  "nbformat": 4,
  "nbformat_minor": 5,
  "metadata": {
    "kernel_info": {
      "name": "python3.9-noteable"
    },
    "kernelspec": {
      "display_name": "Python 3.9 (Noteable)",
      "identifier": "noteable",
      "language": "python",
      "language_version": "3.9",
      "name": "python3.9-noteable"
    },
    "selected_hardware_size": "small"
  },
  "cells": [
    {
      "id": "ce6c6fb2",
      "cell_type": "code",
      "metadata": {
        "noteable": {
          "output_collection_id": "129bfa3a-46c7-4ebb-bc9d-52c9b3ae2a03"
        },
        "ExecuteTime": {
          "end_time": "2023-11-06T03:22:38.709051+00:00",
          "start_time": "2023-11-06T03:22:38.495239+00:00"
        },
        "datalink": {
          "2e4ba5b7-1047-4bfb-98f5-4c39da3b33ec": {
            "applied_filters": [],
            "dataframe_info": {
              "default_index_used": true,
              "orig_num_cols": 8,
              "orig_num_rows": 5,
              "orig_size_bytes": 360,
              "truncated_num_cols": 8,
              "truncated_num_rows": 5,
              "truncated_size_bytes": 360,
              "truncated_string_columns": []
            },
            "display_id": "2e4ba5b7-1047-4bfb-98f5-4c39da3b33ec",
            "dx_settings": {
              "ALLOW_NOTEABLE_ATTRS": true,
              "COLUMN_SAMPLING_METHOD": "outer",
              "DB_LOCATION": ":memory:",
              "DEV_MODE": false,
              "DISPLAY_MAX_COLUMNS": 100,
              "DISPLAY_MAX_ROWS": 50000,
              "DISPLAY_MODE": "simple",
              "ENABLE_ASSIGNMENT": true,
              "ENABLE_DATALINK": true,
              "FLATTEN_COLUMN_VALUES": true,
              "FLATTEN_INDEX_VALUES": false,
              "GENERATE_DEX_METADATA": false,
              "HTML_TABLE_SCHEMA": false,
              "LOG_LEVEL": 30,
              "MAX_RENDER_SIZE_BYTES": 104857600,
              "MAX_STRING_LENGTH": 250,
              "NUM_PAST_SAMPLES_TRACKED": 3,
              "RANDOM_STATE": 12648430,
              "RESET_INDEX_VALUES": false,
              "ROW_SAMPLING_METHOD": "random",
              "SAMPLING_FACTOR": 0.1,
              "SAMPLING_METHOD": "random",
              "STRINGIFY_COLUMN_VALUES": true,
              "STRINGIFY_INDEX_VALUES": false
            },
            "sample_history": [],
            "sampling_time": "2023-11-06T03:22:38.544409",
            "user_variable_name": null,
            "variable_name": "unk_dataframe_d942fc8f664f4375afcc57b16fd4c953"
          }
        },
        "dx": {
          "dashboard": {
            "multiViews": []
          },
          "fieldMetadata": {},
          "updated": 1699241085902,
          "views": [
            {
              "annotationRules": [],
              "chart": {},
              "chartMode": "empty",
              "confoRules": [],
              "decoration": {
                "footer": "",
                "subtitle": "",
                "title": "New View"
              },
              "facets": [],
              "filterSettings": {
                "SHOW_FILTER_PANEL": true,
                "filters": []
              },
              "id": "c8f37557-f873-468c-b2f9-c37bed79a894",
              "isDefault": false,
              "type": "public",
              "userID": ""
            }
          ]
        }
      },
      "execution_count": null,
      "source": "import pandas as pd\n\n# Read the CSV file\ndf = pd.read_csv('green-businesses.csv')\n\n# Display the first few rows of the DataFrame\ndf.head()",
      "outputs": []
    },
    {
      "id": "ed197227-6e96-42ae-8958-f6019ae2ccfc",
      "cell_type": "code",
      "metadata": {
        "jupyter": {
          "outputs_hidden": false,
          "source_hidden": false
        },
        "noteable": {
          "cell_type": "code",
          "output_collection_id": "62ba1972-1815-4097-8519-a81e849687dd"
        },
        "ExecuteTime": {
          "end_time": "2023-11-06T03:25:35.857746+00:00",
          "start_time": "2023-11-06T03:25:35.702654+00:00"
        }
      },
      "execution_count": null,
      "source": "#count the number of enteries \nnum_entries = len(df)\nprint(num_entries)",
      "outputs": []
    },
    {
      "id": "8813778b-74e6-4d75-ae29-d90c867a9a58",
      "cell_type": "code",
      "metadata": {
        "jupyter": {
          "outputs_hidden": false,
          "source_hidden": false
        },
        "noteable": {
          "cell_type": "code",
          "output_collection_id": "e4655e06-1f80-44c6-b699-524b8384b40a"
        },
        "ExecuteTime": {
          "end_time": "2023-11-06T03:27:43.748917+00:00",
          "start_time": "2023-11-06T03:27:43.062587+00:00"
        },
        "scrolled": false
      },
      "execution_count": null,
      "source": "\n\n#created a line plot that shows the evolution of the number of entries grouped by year.\nimport matplotlib.pyplot as plt\n\n# Grouped the dataframe by year and count the number of entries\nentries_by_year = df.groupby('year').size()\n\n# Created a line plot\nplt.plot(entries_by_year.index, entries_by_year.values)\nplt.xlabel('Year')\nplt.ylabel('Number of Entries')\nplt.title('Number of Entries by Year')\nplt.show()\n",
      "outputs": []
    },
    {
      "id": "2c1e42cc-5a11-47a4-9b73-e59b1da9055d",
      "cell_type": "code",
      "metadata": {
        "jupyter": {
          "outputs_hidden": false,
          "source_hidden": false
        },
        "noteable": {
          "cell_type": "code",
          "output_collection_id": "3f503738-7337-4605-a3a3-9dc2da2ffb8a"
        },
        "ExecuteTime": {
          "end_time": "2023-11-06T03:28:36.379692+00:00",
          "start_time": "2023-11-06T03:28:35.374188+00:00"
        }
      },
      "execution_count": null,
      "source": "# created a horizontal bar plot of the number of entries in the dataset grouped by the region variable.\nimport seaborn as sns\n\n# Group the dataframe by region and count the number of entries\nentries_by_region = df.groupby('region').size()\n\n# Sort the entries by region in descending order\nentries_by_region = entries_by_region.sort_values(ascending=False)\n\n# Create a horizontal barplot\nsns.barplot(x=entries_by_region.values, y=entries_by_region.index)\nplt.xlabel('Number of Entries')\nplt.ylabel('Region')\nplt.title('Number of Entries by Region')\n\n# Add data labels at the end of the bars\nfor i, v in enumerate(entries_by_region.values):\n    plt.text(v + 3, i, str(v), color='black', va='center')\n\nplt.show()\n",
      "outputs": []
    },
    {
      "id": "b0401660-b89d-4390-a84d-a5fcabb251a6",
      "cell_type": "code",
      "metadata": {
        "jupyter": {
          "outputs_hidden": false,
          "source_hidden": false
        },
        "noteable": {
          "cell_type": "code",
          "output_collection_id": "37f1bc61-5d6a-4afa-9a05-ec86c002ed06"
        },
        "ExecuteTime": {
          "end_time": "2023-11-06T03:29:49.464061+00:00",
          "start_time": "2023-11-06T03:29:49.306366+00:00"
        }
      },
      "execution_count": null,
      "source": "#Most common type of green business according to the result variable.\n# Find the most common type of green business\nmost_common_type = df['result'].value_counts().idxmax()\nmost_common_type",
      "outputs": []
    }
  ]
}